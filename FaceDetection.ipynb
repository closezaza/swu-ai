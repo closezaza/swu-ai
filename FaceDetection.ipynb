{
  "nbformat": 4,
  "nbformat_minor": 0,
  "metadata": {
    "colab": {
      "name": "FaceDetection.ipynb",
      "provenance": [],
      "collapsed_sections": [],
      "toc_visible": true
    },
    "kernelspec": {
      "name": "python3",
      "display_name": "Python 3"
    },
    "language_info": {
      "name": "python"
    }
  },
  "cells": [
    {
      "cell_type": "markdown",
      "metadata": {
        "id": "fWUfzDdFVPHt"
      },
      "source": [
        "All files are at: https://github.com/benapa/python_face_detection"
      ]
    },
    {
      "cell_type": "markdown",
      "metadata": {
        "id": "VsFJ_fGosr0r"
      },
      "source": [
        "# **Image representation**\n",
        "\n",
        "\n",
        "\n"
      ]
    },
    {
      "cell_type": "code",
      "metadata": {
        "id": "SRjyoms1wvIC"
      },
      "source": [
        "import numpy\n",
        "import matplotlib.pyplot as pyplot\n",
        "\n",
        "sample_array = numpy.array([[0, 255], \n",
        "                            [255, 0]], numpy.uint8)\n",
        "pyplot.imshow(sample_array, cmap='gray', vmin=0, vmax=255)\n",
        "pyplot.show()"
      ],
      "execution_count": null,
      "outputs": []
    },
    {
      "cell_type": "code",
      "metadata": {
        "id": "_ON-nIgVVfgd"
      },
      "source": [
        "import numpy\n",
        "import matplotlib.pyplot as pyplot\n",
        "sample_array = numpy.array([[0, 255, 0], \n",
        "                            [255, 0, 255]], numpy.uint8)\n",
        "pyplot.imshow(sample_array, cmap='gray', vmin=0, vmax=255)\n",
        "pyplot.show()"
      ],
      "execution_count": null,
      "outputs": []
    },
    {
      "cell_type": "code",
      "metadata": {
        "id": "CD-SaPB_uWjX"
      },
      "source": [
        "import numpy\n",
        "import matplotlib.pyplot as pyplot\n",
        "sample_array = numpy.array([[0, 255, 0], \n",
        "                            [255, 0, 255], \n",
        "                            [0, 255, 0]], numpy.uint8)\n",
        "pyplot.imshow(sample_array, cmap='gray', vmin=0, vmax=255)\n",
        "pyplot.show()"
      ],
      "execution_count": null,
      "outputs": []
    },
    {
      "cell_type": "code",
      "metadata": {
        "id": "7lIVsxZiw1FS"
      },
      "source": [
        "import numpy\n",
        "import matplotlib.pyplot as pyplot\n",
        "pixel1 = [85, 85, 255]\n",
        "pixel2 = [51, 187, 200]\n",
        "sample_array = numpy.array([[pixel1, pixel2, pixel1],\n",
        "                            [pixel2, pixel1, pixel2],\n",
        "                            [pixel1, pixel2, pixel1]], numpy.uint8)\n",
        "pyplot.imshow(sample_array)\n",
        "pyplot.show()"
      ],
      "execution_count": null,
      "outputs": []
    },
    {
      "cell_type": "code",
      "metadata": {
        "id": "W1j645K0uQz5"
      },
      "source": [
        "#Heart image"
      ],
      "execution_count": null,
      "outputs": []
    },
    {
      "cell_type": "markdown",
      "metadata": {
        "id": "K7EYK1RrrN1n"
      },
      "source": [
        "More to read: https://github.com/gmattie/Data-Pixels"
      ]
    },
    {
      "cell_type": "markdown",
      "metadata": {
        "id": "_mOlpde8tcx4"
      },
      "source": [
        "# **Read images from files**"
      ]
    },
    {
      "cell_type": "code",
      "metadata": {
        "id": "cdeQ3D1O1A2m"
      },
      "source": [
        "from matplotlib import pyplot\n",
        "\n",
        "\n",
        "pixels = pyplot.imread('test.jpg')\n",
        "pyplot.imshow(pixels)\n",
        "pyplot.show()\n"
      ],
      "execution_count": null,
      "outputs": []
    },
    {
      "cell_type": "code",
      "metadata": {
        "id": "K9ym1X4wVvye"
      },
      "source": [
        "pixels"
      ],
      "execution_count": null,
      "outputs": []
    },
    {
      "cell_type": "markdown",
      "metadata": {
        "id": "DbezCX4jVRgX"
      },
      "source": [
        "# **Introduction to AI In Image Processing**\n",
        "\n",
        "AI stands for Artificial Intelligence"
      ]
    },
    {
      "cell_type": "markdown",
      "metadata": {
        "id": "_5cj9cVMS_em"
      },
      "source": [
        "**Face detection** could be considered as one variant of object detection problems. Specifically, given an image containing faces, the task is to derive a rectangular face bounding box. \n",
        "  - Haar cascades face detection: Haar-cascade algorithm proposed in the Viola-Jones object detection framework which contains four computation steps: Integral Image Representation, Haar-like feature extraction and selec-tion, Adaboost training, and cascading classifiers. Haar-cascade algorithm and its hand-craft feature companions (e.g., HoG , SURF , LBP , etc.) is computationally efficient (15 fps at 900MHz CPU). However, it is designed for frontal face detection and it is not robust to variations in facial pose, orientation, occlusion, and illumination. Its implementation can be found at: https://pypi.org/project/opencv-python/. \n",
        "  - MTCNN face detection: Multi-task Cascaded Convolutional Network is one popular face detection module consisting of three cascaded CNN, namely, P-Net, R-Net, and O-Net, respectively. Its implementation can be found at: https://pypi.org/project/mtcnn/. "
      ]
    },
    {
      "cell_type": "code",
      "metadata": {
        "id": "7br9rkgNUx5L"
      },
      "source": [
        "!pip install opencv-python\n",
        "!pip install MTCNN"
      ],
      "execution_count": null,
      "outputs": []
    },
    {
      "cell_type": "code",
      "metadata": {
        "id": "_OLf_qp5S70q"
      },
      "source": [
        "from matplotlib import pyplot\n",
        "import cv2\n",
        "\n",
        "\n",
        "pixels = pyplot.imread('test.jpg')\n",
        "pyplot.imshow(pixels)\n",
        "pyplot.show()\n",
        "\n",
        "# Load the cascade\n",
        "face_cascade = cv2.CascadeClassifier(cv2.data.haarcascades + 'haarcascade_frontalface_default.xml')\n",
        "# Convert color image to grayscale \n",
        "gray = cv2.cvtColor(pixels, cv2.COLOR_BGR2GRAY)\n",
        "# detect faces in the image\n",
        "results = face_cascade.detectMultiScale(gray, 1.3, 5)\n",
        "\n",
        "for (x1, y1, width, height) in results:\n",
        "\tif y1<0:\n",
        "\t\ty1=0\n",
        "\tif x1<0:\n",
        "\t\tx1=0\n",
        "\tx2, y2 = x1 + width, y1 + height\n",
        "# extract the face\n",
        "\tface = pixels[y1:y2, x1:x2]\n",
        "\tpyplot.imshow(face)\n",
        "\tpyplot.show()"
      ],
      "execution_count": null,
      "outputs": []
    },
    {
      "cell_type": "code",
      "metadata": {
        "id": "PVrdVzW2TybB"
      },
      "source": [
        "from matplotlib import pyplot\n",
        "from mtcnn.mtcnn import MTCNN \n",
        "\n",
        "\n",
        "pixels = pyplot.imread('test.jpg')\n",
        "pyplot.imshow(pixels)\n",
        "pyplot.show()\n",
        "\n",
        "# create MTCNN detector to detect faces in the image\n",
        "detector = MTCNN()\n",
        "# use MTCNN detector to detect faces in the image\n",
        "results = detector.detect_faces(pixels)\n",
        "\n",
        "for i in results:\n",
        "\t(x1, y1, width, height) = i['box']\n",
        "\tif y1<0:\n",
        "\t\ty1=0\n",
        "\tif x1<0:\n",
        "\t\tx1=0\n",
        "\tx2, y2 = x1 + width, y1 + height\n",
        "# extract the face\n",
        "\tface = pixels[y1:y2, x1:x2]\n",
        "\tpyplot.imshow(face)\n",
        "\tpyplot.show()"
      ],
      "execution_count": null,
      "outputs": []
    },
    {
      "cell_type": "markdown",
      "metadata": {
        "id": "aYqmihnyUJGx"
      },
      "source": [
        "# **The other side of AI**\n",
        "\n",
        "https://www.google.com/search?q=chimpanzee&rlz=1C1CHBF_enTH911TH911&tbm=isch&source=iu&ictx=1&fir=EaJycokKrelGMM%252ClrwDQBaWanHoGM%252C_&vet=1&usg=AI4_-kT1ypcOc1KtV0vxtsOTDIM-jW6AaQ&sa=X&ved=2ahUKEwikn56nye7yAhXlxTgGHXczCMgQ_h16BAhOEAE#imgrc=aN36Wj-hoeQNwM&imgdii=MXyJPeNmQ58ZuM"
      ]
    },
    {
      "cell_type": "code",
      "metadata": {
        "id": "xIbDl-AEYUYg"
      },
      "source": [
        "from matplotlib import pyplot\n",
        "from mtcnn.mtcnn import MTCNN \n",
        "\n",
        "\n",
        "#pixels = pyplot.imread('test.jpg')\n",
        "pixels = pyplot.imread('chimpanzee7.jpg')\n",
        "pyplot.imshow(pixels)\n",
        "pyplot.show()\n",
        "\n",
        "# create MTCNN detector to detect faces in the image\n",
        "detector = MTCNN()\n",
        "# use MTCNN detector to detect faces in the image\n",
        "results = detector.detect_faces(pixels)\n",
        "\n",
        "for i in results:\n",
        "\t(x1, y1, width, height) = i['box']\n",
        "\tif y1<0:\n",
        "\t\ty1=0\n",
        "\tif x1<0:\n",
        "\t\tx1=0\n",
        "\tx2, y2 = x1 + width, y1 + height\n",
        "# extract the face\n",
        "\tface = pixels[y1:y2, x1:x2]\n",
        "\tpyplot.imshow(face)\n",
        "\tpyplot.show()"
      ],
      "execution_count": null,
      "outputs": []
    },
    {
      "cell_type": "markdown",
      "metadata": {
        "id": "evYl_yAnTNbp"
      },
      "source": [
        "# **AI performance**"
      ]
    },
    {
      "cell_type": "markdown",
      "metadata": {
        "id": "ESxK_OjRTmFQ"
      },
      "source": [
        "ความผิดพลาดในการตรวจจับใบหน้า สามารถแบ่งได้เป็น 2 ชนิด คือ\n",
        "- False detection --> detect non-face object as faces \n",
        "- False rejection --> fail to detect faces from images with faces\n",
        "\n",
        "ให้ทำการตรวจสอบ false detection ของ MTCNN และ OpenCV face detector โดยการ\n",
        "\n",
        "1.   เปิดโฟลเดอร์ชื่อ NotFace\n",
        "2.   ทดสอบผลลัพธ์การตรวจจับใบหน้าสำหรับแต่ละภาพในโฟลเดอร์ดังกล่าว\n",
        "3.   นับ**จำนวนใบหน้า**ที่มีการตรวจจับโดยโปรแกรม (false detection)\n",
        "\n",
        "    MTCNN's False detection = ________________\n",
        "\n",
        "    OpenCV's False detection = ________________\n",
        "\n",
        "จากนั้นให้ทำการตรวจสอบ false rejection ของ MTCNN and OpenCV face detector โดยการ\n",
        "\n",
        "1.   เปิดโฟลเดอร์ชื่อ Face\n",
        "2.   ทดสอบผลลัพธ์การตรวจจับใบหน้าสำหรับแต่ละภาพในโฟลเดอร์ดังกล่าว\n",
        "3.   นับ**จำนวนใบหน้า**ที่โปรแกรมไม่ตรวจจับ (false rejection)\n",
        "\n",
        "    MTCNN's False rejection = ________________\n",
        "\n",
        "    OpenCV's False rejection = ________________\n",
        "\n",
        "\n"
      ]
    },
    {
      "cell_type": "code",
      "metadata": {
        "id": "wI1YY8QqUyB_"
      },
      "source": [
        "import numpy\n",
        "from time import sleep\n",
        "import sys\n",
        "\n",
        "lines = [\" \\\"Stay hungry stay foolish \\\", Steve Jobs \", \"Thank you everyone. Hope you enjoy!\" ]\n",
        "for line in lines:          # for each line of text (or each message)\n",
        "    for c in line:          # for each character in each line\n",
        "        print(c, end='')    # print a single character, and keep the cursor there.\n",
        "        sys.stdout.flush()  # flush the buffer\n",
        "        sleep(0.12)          # wait a little to make the effect look good.\n",
        "    print('')               # line break (optional, could also be part of the message)\n",
        "\n",
        "smiles = numpy.array([[255, 255,   0, 255,   0 ,255 ,255 ], \n",
        "                      [255, 255,   0, 255,   0 ,255 ,255 ], \n",
        "                      [255, 255, 255, 255, 255 ,255 ,255 ], \n",
        "                      [255, 255, 255, 255, 255 ,255 ,255 ], \n",
        "                      [255, 0  , 255, 255, 255 ,0 ,255 ], \n",
        "                      [255, 255, 0  , 0  , 0   ,255 ,255 ]], numpy.uint8)\n",
        "pyplot.imshow(smiles, cmap='gray', vmin=0, vmax=255)\n",
        "pyplot.show()\n",
        "\n"
      ],
      "execution_count": null,
      "outputs": []
    },
    {
      "cell_type": "markdown",
      "metadata": {
        "id": "VVJTzaq_Ad09"
      },
      "source": [
        "# **Working with files from Google drive**"
      ]
    },
    {
      "cell_type": "code",
      "metadata": {
        "colab": {
          "base_uri": "https://localhost:8080/"
        },
        "id": "YkdWIUnIAZVd",
        "outputId": "602442b7-2305-4134-bd53-eba56e2cf2aa"
      },
      "source": [
        "# 1. mount the drive\n",
        "from google.colab import drive\n",
        "drive.mount('/content/drive')"
      ],
      "execution_count": null,
      "outputs": [
        {
          "output_type": "stream",
          "name": "stdout",
          "text": [
            "Mounted at /content/drive\n"
          ]
        }
      ]
    },
    {
      "cell_type": "code",
      "metadata": {
        "colab": {
          "base_uri": "https://localhost:8080/",
          "height": 269
        },
        "id": "Y2hjylAiBBok",
        "outputId": "fe62ac9e-05d5-4e86-f9ae-1623b3ad2aa7"
      },
      "source": [
        "# 2. read files in drive\n",
        "\n",
        "from matplotlib import pyplot\n",
        "\n",
        "\n",
        "pixels = pyplot.imread('/content/drive/MyDrive/Images/heart.jpg')\n",
        "pyplot.imshow(pixels)\n",
        "pyplot.show()"
      ],
      "execution_count": null,
      "outputs": [
        {
          "output_type": "display_data",
          "data": {
            "image/png": "[encoded data removed]",
            "text/plain": [
              "<Figure size 432x288 with 1 Axes>"
            ]
          },
          "metadata": {
            "needs_background": "light"
          }
        }
      ]
    },
    {
      "cell_type": "code",
      "metadata": {
        "colab": {
          "base_uri": "https://localhost:8080/",
          "height": 286
        },
        "id": "KSY4dN0hFzec",
        "outputId": "11a97a89-466f-49b9-dba6-47311ec86b7a"
      },
      "source": [
        "filename = input('Type filename you want to process:')\n",
        "pixels = pyplot.imread('/content/drive/MyDrive/Images/'+filename)\n",
        "pyplot.imshow(pixels)\n",
        "pyplot.show()"
      ],
      "execution_count": null,
      "outputs": [
        {
          "name": "stdout",
          "output_type": "stream",
          "text": [
            "Type filename you want to process:heart.jpg\n"
          ]
        },
        {
          "output_type": "display_data",
          "data": {
            "image/png": "[encoded data removed]",
            "text/plain": [
              "<Figure size 432x288 with 1 Axes>"
            ]
          },
          "metadata": {
            "needs_background": "light"
          }
        }
      ]
    }
  ]
}